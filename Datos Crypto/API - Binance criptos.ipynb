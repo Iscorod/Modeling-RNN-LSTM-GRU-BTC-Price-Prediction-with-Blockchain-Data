{
 "cells": [
  {
   "cell_type": "code",
   "execution_count": 2,
   "id": "25b9a77b-0a6b-4639-9c9b-03e29f0275b0",
   "metadata": {},
   "outputs": [],
   "source": [
    "#pip install python-binance"
   ]
  },
  {
   "cell_type": "code",
   "execution_count": 1,
   "id": "4baeee24-bbcd-4864-9a50-ddf6a68ce6dd",
   "metadata": {},
   "outputs": [],
   "source": [
    "from binance.client import Client\n",
    "import pandas as pd\n",
    "import datetime"
   ]
  },
  {
   "cell_type": "code",
   "execution_count": 6,
   "id": "1765f796-0a8f-4ed6-97e2-afa2fc642a8b",
   "metadata": {},
   "outputs": [
    {
     "name": "stderr",
     "output_type": "stream",
     "text": [
      "C:\\Users\\iscor\\AppData\\Local\\Temp\\ipykernel_7388\\1057466461.py:17: DeprecationWarning: Parsing dates involving a day of month without a year specified is ambiguious\n",
      "and fails to parse leap day. The default behavior will change in Python 3.15\n",
      "to either always raise an exception or to use a different default year (TBD).\n",
      "To avoid trouble, add a specific year to the input & format.\n",
      "See https://github.com/python/cpython/issues/70647.\n",
      "  klines = client.get_historical_klines(\"BTCUSDT\", Client.KLINE_INTERVAL_1HOUR, start_str=start_date, end_str=end_date)\n"
     ]
    },
    {
     "name": "stdout",
     "output_type": "stream",
     "text": [
      "                 date     open     high      low    close      volume\n",
      "0 2020-01-01 00:00:00  7195.24  7196.25  7175.46  7177.02  511.814901\n",
      "1 2020-01-01 01:00:00  7176.47  7230.00  7175.71  7216.27  883.052603\n",
      "2 2020-01-01 02:00:00  7215.52  7244.87  7211.41  7242.85  655.156809\n",
      "3 2020-01-01 03:00:00  7242.66  7245.00  7220.00  7225.01  783.724867\n",
      "4 2020-01-01 04:00:00  7225.00  7230.00  7215.03  7217.27  467.812578\n"
     ]
    }
   ],
   "source": [
    "# Claves de API (pueden estar vacías si solo necesitas datos de mercado)\n",
    "API_KEY = \"\"\n",
    "API_SECRET = \"\"\n",
    "\n",
    "# Crear cliente de Binance\n",
    "client = Client(API_KEY, API_SECRET)\n",
    "\n",
    "# Definir fechas de inicio y fin\n",
    "start_date = \"2020-01-01\"\n",
    "end_date = \"2025-06-30\"\n",
    "\n",
    "# Convertir a milisegundos para la API de Binance\n",
    "start_timestamp = int(datetime.datetime.strptime(start_date, \"%Y-%m-%d\").timestamp() * 1000)\n",
    "end_timestamp = int(datetime.datetime.strptime(end_date, \"%Y-%m-%d\").timestamp() * 1000)\n",
    "\n",
    "# Descargar datos históricos (intervalo 1 día)\n",
    "klines = client.get_historical_klines(\"BTCUSDT\", Client.KLINE_INTERVAL_1HOUR, start_str=start_date, end_str=end_date)\n",
    "\n",
    "# Convertir a DataFrame de pandas\n",
    "df = pd.DataFrame(klines, columns=[\n",
    "    \"timestamp\", \"open\", \"high\", \"low\", \"close\", \"volume\",\n",
    "    \"close_time\", \"quote_asset_volume\", \"number_of_trades\",\n",
    "    \"taker_buy_base_asset_volume\", \"taker_buy_quote_asset_volume\", \"ignore\"\n",
    "])\n",
    "\n",
    "# Convertir la columna de timestamp a formato de fecha\n",
    "df[\"date\"] = pd.to_datetime(df[\"timestamp\"], unit=\"ms\")\n",
    "\n",
    "# Seleccionar columnas relevantes\n",
    "df = df[[\"date\", \"open\", \"high\", \"low\", \"close\", \"volume\"]]\n",
    "\n",
    "# Convertir valores a tipo numérico\n",
    "df[[\"open\", \"high\", \"low\", \"close\", \"volume\"]] = df[[\"open\", \"high\", \"low\", \"close\", \"volume\"]].astype(float)\n",
    "\n",
    "# Guardar en un archivo CSV\n",
    "df.to_csv(\"Historico_BTC_1hora.csv\", index=False)\n",
    "\n",
    "# Mostrar las primeras filas\n",
    "print(df.head())"
   ]
  },
  {
   "cell_type": "code",
   "execution_count": null,
   "id": "1aa4401d-2f28-422a-aaf5-99a9f25120ef",
   "metadata": {},
   "outputs": [],
   "source": [
    "# Claves de API (pueden estar vacías si solo necesitas datos de mercado)\n",
    "API_KEY = \"\"\n",
    "API_SECRET = \"\"\n",
    "\n",
    "# Crear cliente de Binance\n",
    "client = Client(API_KEY, API_SECRET)\n",
    "\n",
    "# Definir fechas de inicio y fin\n",
    "start_date = \"2017-01-01\"\n",
    "end_date = \"2025-01-07\"\n",
    "\n",
    "# Convertir a milisegundos para la API de Binance\n",
    "start_timestamp = int(datetime.datetime.strptime(start_date, \"%Y-%m-%d\").timestamp() * 1000)\n",
    "end_timestamp = int(datetime.datetime.strptime(end_date, \"%Y-%m-%d\").timestamp() * 1000)\n",
    "\n",
    "# Descargar datos históricos (intervalo 1 día)\n",
    "klines = client.get_historical_klines(\"BTCUSDT\", Client.KLINE_INTERVAL_4HOUR, start_str=start_date, end_str=end_date)\n",
    "\n",
    "# Convertir a DataFrame de pandas\n",
    "df = pd.DataFrame(klines, columns=[\n",
    "    \"timestamp\", \"open\", \"high\", \"low\", \"close\", \"volume\",\n",
    "    \"close_time\", \"quote_asset_volume\", \"number_of_trades\",\n",
    "    \"taker_buy_base_asset_volume\", \"taker_buy_quote_asset_volume\", \"ignore\"\n",
    "])\n",
    "\n",
    "# Convertir la columna de timestamp a formato de fecha\n",
    "df[\"date\"] = pd.to_datetime(df[\"timestamp\"], unit=\"ms\")\n",
    "\n",
    "# Seleccionar columnas relevantes\n",
    "df = df[[\"date\", \"open\", \"high\", \"low\", \"close\", \"volume\"]]\n",
    "\n",
    "# Convertir valores a tipo numérico\n",
    "df[[\"open\", \"high\", \"low\", \"close\", \"volume\"]] = df[[\"open\", \"high\", \"low\", \"close\", \"volume\"]].astype(float)\n",
    "\n",
    "# Guardar en un archivo CSV\n",
    "df.to_csv(\"Historico_BTC_4hora.csv\", index=False)\n",
    "\n",
    "# Mostrar las primeras filas\n",
    "print(df.head())"
   ]
  },
  {
   "cell_type": "markdown",
   "id": "c5ae9f12-9549-48a6-9641-433c64fc33d4",
   "metadata": {},
   "source": [
    "# CSV BTC DIARIO"
   ]
  },
  {
   "cell_type": "code",
   "execution_count": 3,
   "id": "331e2ee8-fe51-4470-9f74-cd6280d8744b",
   "metadata": {},
   "outputs": [
    {
     "name": "stderr",
     "output_type": "stream",
     "text": [
      "C:\\Users\\iscor\\AppData\\Local\\Temp\\ipykernel_53636\\860652535.py:17: DeprecationWarning: Parsing dates involving a day of month without a year specified is ambiguious\n",
      "and fails to parse leap day. The default behavior will change in Python 3.15\n",
      "to either always raise an exception or to use a different default year (TBD).\n",
      "To avoid trouble, add a specific year to the input & format.\n",
      "See https://github.com/python/cpython/issues/70647.\n",
      "  klines = client.get_historical_klines(\"BTCUSDT\", Client.KLINE_INTERVAL_1DAY, start_str=start_date, end_str=end_date)\n"
     ]
    },
    {
     "name": "stdout",
     "output_type": "stream",
     "text": [
      "        date      open      high       low     close        volume\n",
      "0 2018-01-01  13715.65  13818.55  12750.00  13380.00   8609.915844\n",
      "1 2018-01-02  13382.16  15473.49  12890.02  14675.11  20078.092111\n",
      "2 2018-01-03  14690.00  15307.56  14150.00  14919.51  15905.667639\n",
      "3 2018-01-04  14919.51  15280.00  13918.04  15059.54  21329.649574\n",
      "4 2018-01-05  15059.56  17176.24  14600.00  16960.39  23251.491125\n"
     ]
    }
   ],
   "source": [
    "# Claves de API (pueden estar vacías si solo necesitas datos de mercado)\n",
    "API_KEY = \"\"\n",
    "API_SECRET = \"\"\n",
    "\n",
    "# Crear cliente de Binance\n",
    "client = Client(API_KEY, API_SECRET)\n",
    "\n",
    "# Definir fechas de inicio y fin\n",
    "start_date = \"2018-01-01\"\n",
    "end_date = \"2024-06-30\"\n",
    "\n",
    "# Convertir a milisegundos para la API de Binance\n",
    "start_timestamp = int(datetime.datetime.strptime(start_date, \"%Y-%m-%d\").timestamp() * 1000)\n",
    "end_timestamp = int(datetime.datetime.strptime(end_date, \"%Y-%m-%d\").timestamp() * 1000)\n",
    "\n",
    "# Descargar datos históricos (intervalo 1 día)\n",
    "klines = client.get_historical_klines(\"BTCUSDT\", Client.KLINE_INTERVAL_1DAY, start_str=start_date, end_str=end_date)\n",
    "\n",
    "# Convertir a DataFrame de pandas\n",
    "df = pd.DataFrame(klines, columns=[\n",
    "    \"timestamp\", \"open\", \"high\", \"low\", \"close\", \"volume\",\n",
    "    \"close_time\", \"quote_asset_volume\", \"number_of_trades\",\n",
    "    \"taker_buy_base_asset_volume\", \"taker_buy_quote_asset_volume\", \"ignore\"\n",
    "])\n",
    "\n",
    "# Convertir la columna de timestamp a formato de fecha\n",
    "df[\"date\"] = pd.to_datetime(df[\"timestamp\"], unit=\"ms\")\n",
    "\n",
    "# Seleccionar columnas relevantes\n",
    "df = df[[\"date\", \"open\", \"high\", \"low\", \"close\", \"volume\"]]\n",
    "\n",
    "# Convertir valores a tipo numérico\n",
    "df[[\"open\", \"high\", \"low\", \"close\", \"volume\"]] = df[[\"open\", \"high\", \"low\", \"close\", \"volume\"]].astype(float)\n",
    "\n",
    "# Guardar en un archivo CSV\n",
    "df.to_csv(\"Historico_BTC_diario.csv\", index=False)\n",
    "\n",
    "# Mostrar las primeras filas\n",
    "print(df.head())"
   ]
  }
 ],
 "metadata": {
  "kernelspec": {
   "display_name": "Python 3 (ipykernel)",
   "language": "python",
   "name": "python3"
  },
  "language_info": {
   "codemirror_mode": {
    "name": "ipython",
    "version": 3
   },
   "file_extension": ".py",
   "mimetype": "text/x-python",
   "name": "python",
   "nbconvert_exporter": "python",
   "pygments_lexer": "ipython3",
   "version": "3.13.5"
  }
 },
 "nbformat": 4,
 "nbformat_minor": 5
}
