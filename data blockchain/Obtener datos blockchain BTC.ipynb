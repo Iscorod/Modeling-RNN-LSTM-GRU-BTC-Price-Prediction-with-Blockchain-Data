{
 "cells": [
  {
   "cell_type": "markdown",
   "id": "1004518a-c200-4472-bfb1-138ffbf7cf8b",
   "metadata": {},
   "source": [
    "# Carga de los datos Blockchain del BTC"
   ]
  },
  {
   "cell_type": "code",
   "execution_count": 1,
   "id": "d66d397e-3d29-43a9-8e72-c753a6f0628e",
   "metadata": {},
   "outputs": [],
   "source": [
    "import requests\n",
    "import pandas as pd\n",
    "from pathlib import Path"
   ]
  },
  {
   "cell_type": "markdown",
   "id": "6ef1032e-14ba-4052-ad39-d10f5e146e9f",
   "metadata": {},
   "source": [
    "## Solo admite 5 llamadas por hora"
   ]
  },
  {
   "cell_type": "code",
   "execution_count": 2,
   "id": "53d362dd-1dac-4888-89d2-d83d38959931",
   "metadata": {},
   "outputs": [
    {
     "name": "stdout",
     "output_type": "stream",
     "text": [
      "Guardado data blockchain\\lth-mvrv_2017-01-01_to_2025-06-30.csv\n",
      "Guardado data blockchain\\difficulty-BTC_2017-01-01_to_2025-06-30.csv\n",
      "Guardado data blockchain\\hashprice_2017-01-01_to_2025-06-30.csv\n",
      "Guardado data blockchain\\lth-sopr_2017-01-01_to_2025-06-30.csv\n",
      "Guardado data blockchain\\mvocdd_2017-01-01_to_2025-06-30.csv\n",
      "Error al obtener cdd: 429\n"
     ]
    }
   ],
   "source": [
    "# Carpeta donde se guardarán los CSV\n",
    "output_dir = \"data blockchain\"\n",
    "Path(output_dir).mkdir(parents=True, exist_ok=True)\n",
    "\n",
    "# URL base de la API\n",
    "base_url = \"https://bitcoin-data.com/v1\"\n",
    "\n",
    "# Lista de endpoints que quieres consultar\n",
    "endpoints = ['lth-mvrv', 'difficulty-BTC', 'hashprice', 'lth-sopr', 'mvocdd'\n",
    "            ]\n",
    "\n",
    "# Fechas\n",
    "startday = '2017-01-01'\n",
    "endday = '2025-06-30'\n",
    "\n",
    "# Recorrer la lista de endpoints\n",
    "for endpoint in endpoints:\n",
    "    url = f\"{base_url}/{endpoint}?startday={startday}&endday={endday}\"\n",
    "    response = requests.get(url)\n",
    "\n",
    "    if response.status_code != 200:\n",
    "        print(f\"Error al obtener {endpoint}: {response.status_code}\")\n",
    "        continue\n",
    "    \n",
    "    df = pd.DataFrame(response.json())\n",
    "    \n",
    "    # Guardar CSV\n",
    "    file_path = Path(output_dir) / f\"{endpoint}_{startday}_to_{endday}.csv\"\n",
    "    df.to_csv(file_path, index=False)\n",
    "    print(f\"Guardado {file_path}\")"
   ]
  },
  {
   "cell_type": "code",
   "execution_count": 5,
   "id": "7a22fe68-f5f5-49fe-9237-3a2758ede7d1",
   "metadata": {},
   "outputs": [
    {
     "name": "stdout",
     "output_type": "stream",
     "text": [
      "Error al obtener cdd: 429\n",
      "Error al obtener nupl: 429\n",
      "Error al obtener nrpl-btc: 429\n",
      "Error al obtener miner-reserve: 429\n",
      "Error al obtener mvrv: 429\n"
     ]
    }
   ],
   "source": [
    "# Carpeta donde se guardarán los CSV\n",
    "output_dir = \"data blockchain\"\n",
    "Path(output_dir).mkdir(parents=True, exist_ok=True)\n",
    "\n",
    "# URL base de la API\n",
    "base_url = \"https://bitcoin-data.com/v1\"\n",
    "\n",
    "# Lista de endpoints que quieres consultar\n",
    "endpoints = ['cdd', 'nupl', \n",
    "             'nrpl-btc', 'miner-reserves', 'mvrv']\n",
    "\n",
    "# Fechas\n",
    "startday = '2017-01-01'\n",
    "endday = '2025-06-30'\n",
    "\n",
    "# Recorrer la lista de endpoints\n",
    "for endpoint in endpoints:\n",
    "    url = f\"{base_url}/{endpoint}?startday={startday}&endday={endday}\"\n",
    "    response = requests.get(url)\n",
    "\n",
    "    if response.status_code != 200:\n",
    "        print(f\"Error al obtener {endpoint}: {response.status_code}\")\n",
    "        continue\n",
    "    \n",
    "    df = pd.DataFrame(response.json())\n",
    "    \n",
    "    # Guardar CSV\n",
    "    file_path = Path(output_dir) / f\"{endpoint}_{startday}_to_{endday}.csv\"\n",
    "    df.to_csv(file_path, index=False)\n",
    "    print(f\"Guardado {file_path}\")"
   ]
  },
  {
   "cell_type": "code",
   "execution_count": 6,
   "id": "bb838c3f-553f-4c6e-894e-e86c622c7b3d",
   "metadata": {},
   "outputs": [
    {
     "name": "stdout",
     "output_type": "stream",
     "text": [
      "Error al obtener out-flows: 404\n",
      "Guardado data blockchain\\puell-multiple_2017-01-01_to_2025-06-30.csv\n",
      "Guardado data blockchain\\realized_loss_lth_2017-01-01_to_2025-06-30.csv\n",
      "Guardado data blockchain\\realized_profit_lth_2017-01-01_to_2025-06-30.csv\n",
      "Guardado data blockchain\\realized_profit_sth_2017-01-01_to_2025-06-30.csv\n"
     ]
    }
   ],
   "source": [
    "# Carpeta donde se guardarán los CSV\n",
    "output_dir = \"data blockchain\"\n",
    "Path(output_dir).mkdir(parents=True, exist_ok=True)\n",
    "\n",
    "# URL base de la API\n",
    "base_url = \"https://bitcoin-data.com/v1\"\n",
    "\n",
    "# Lista de endpoints que quieres consultar\n",
    "endpoints = ['out-flows', 'puell-multiple','realized_loss_lth', 'realized_profit_lth', 'realized_profit_sth'\n",
    "            ]\n",
    "\n",
    "# Fechas\n",
    "startday = '2017-01-01'\n",
    "endday = '2025-06-30'\n",
    "\n",
    "# Recorrer la lista de endpoints\n",
    "for endpoint in endpoints:\n",
    "    url = f\"{base_url}/{endpoint}?startday={startday}&endday={endday}\"\n",
    "    response = requests.get(url)\n",
    "\n",
    "    if response.status_code != 200:\n",
    "        print(f\"Error al obtener {endpoint}: {response.status_code}\")\n",
    "        continue\n",
    "    \n",
    "    df = pd.DataFrame(response.json())\n",
    "    \n",
    "    # Guardar CSV\n",
    "    file_path = Path(output_dir) / f\"{endpoint}_{startday}_to_{endday}.csv\"\n",
    "    df.to_csv(file_path, index=False)\n",
    "    print(f\"Guardado {file_path}\")"
   ]
  },
  {
   "cell_type": "code",
   "execution_count": 2,
   "id": "016eb0fb-2e2c-4368-8591-0debd3101697",
   "metadata": {},
   "outputs": [
    {
     "name": "stdout",
     "output_type": "stream",
     "text": [
      "Guardado data blockchain\\sopr_2017-01-01_to_2025-06-30.csv\n",
      "Guardado data blockchain\\sth-mvrv_2017-01-01_to_2025-06-30.csv\n",
      "Guardado data blockchain\\sth-sopr_2017-01-01_to_2025-06-30.csv\n",
      "Guardado data blockchain\\thermo-price_2017-01-01_to_2025-06-30.csv\n",
      "Guardado data blockchain\\true-market-mean_2017-01-01_to_2025-06-30.csv\n"
     ]
    }
   ],
   "source": [
    "# Carpeta donde se guardarán los CSV\n",
    "output_dir = \"data blockchain\"\n",
    "Path(output_dir).mkdir(parents=True, exist_ok=True)\n",
    "\n",
    "# URL base de la API\n",
    "base_url = \"https://bitcoin-data.com/v1\"\n",
    "\n",
    "# Lista de endpoints que quieres consultar\n",
    "endpoints = ['sopr', 'sth-mvrv', 'sth-sopr', \n",
    "             'thermo-price', \n",
    "             'true-market-mean']\n",
    "\n",
    "# Fechas\n",
    "startday = '2017-01-01'\n",
    "endday = '2025-06-30'\n",
    "\n",
    "# Recorrer la lista de endpoints\n",
    "for endpoint in endpoints:\n",
    "    url = f\"{base_url}/{endpoint}?startday={startday}&endday={endday}\"\n",
    "    response = requests.get(url)\n",
    "\n",
    "    if response.status_code != 200:\n",
    "        print(f\"Error al obtener {endpoint}: {response.status_code}\")\n",
    "        continue\n",
    "    \n",
    "    df = pd.DataFrame(response.json())\n",
    "    \n",
    "    # Guardar CSV\n",
    "    file_path = Path(output_dir) / f\"{endpoint}_{startday}_to_{endday}.csv\"\n",
    "    df.to_csv(file_path, index=False)\n",
    "    print(f\"Guardado {file_path}\")"
   ]
  },
  {
   "cell_type": "code",
   "execution_count": 3,
   "id": "beeddf87-11b5-4f8b-ade8-9801a11e2cf7",
   "metadata": {},
   "outputs": [
    {
     "name": "stdout",
     "output_type": "stream",
     "text": [
      "Guardado data blockchain\\value-days-destroyed_2017-01-01_to_2025-06-30.csv\n",
      "Guardado data blockchain\\vocdd_2017-01-01_to_2025-06-30.csv\n"
     ]
    }
   ],
   "source": [
    "# Carpeta donde se guardarán los CSV\n",
    "output_dir = \"data blockchain\"\n",
    "Path(output_dir).mkdir(parents=True, exist_ok=True)\n",
    "\n",
    "# URL base de la API\n",
    "base_url = \"https://bitcoin-data.com/v1\"\n",
    "\n",
    "# Lista de endpoints que quieres consultar\n",
    "endpoints = ['value-days-destroyed', 'vocdd']\n",
    "\n",
    "# Fechas\n",
    "startday = '2017-01-01'\n",
    "endday = '2025-06-30'\n",
    "\n",
    "# Recorrer la lista de endpoints\n",
    "for endpoint in endpoints:\n",
    "    url = f\"{base_url}/{endpoint}?startday={startday}&endday={endday}\"\n",
    "    response = requests.get(url)\n",
    "\n",
    "    if response.status_code != 200:\n",
    "        print(f\"Error al obtener {endpoint}: {response.status_code}\")\n",
    "        continue\n",
    "    \n",
    "    df = pd.DataFrame(response.json())\n",
    "    \n",
    "    # Guardar CSV\n",
    "    file_path = Path(output_dir) / f\"{endpoint}_{startday}_to_{endday}.csv\"\n",
    "    df.to_csv(file_path, index=False)\n",
    "    print(f\"Guardado {file_path}\")"
   ]
  }
 ],
 "metadata": {
  "kernelspec": {
   "display_name": "Python 3 (ipykernel)",
   "language": "python",
   "name": "python3"
  },
  "language_info": {
   "codemirror_mode": {
    "name": "ipython",
    "version": 3
   },
   "file_extension": ".py",
   "mimetype": "text/x-python",
   "name": "python",
   "nbconvert_exporter": "python",
   "pygments_lexer": "ipython3",
   "version": "3.13.5"
  }
 },
 "nbformat": 4,
 "nbformat_minor": 5
}
